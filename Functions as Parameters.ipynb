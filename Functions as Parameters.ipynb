{
 "cells": [
  {
   "cell_type": "markdown",
   "metadata": {},
   "source": [
    "## Passing Function as Parameters\n",
    "---"
   ]
  },
  {
   "cell_type": "code",
   "execution_count": 3,
   "metadata": {
    "collapsed": false
   },
   "outputs": [
    {
     "name": "stdout",
     "output_type": "stream",
     "text": [
      "112\n"
     ]
    }
   ],
   "source": [
    "# Simple Example\n",
    "def methodception(another):\n",
    "    return another()\n",
    "\n",
    "def add_two_numbers():\n",
    "    return 35 + 77\n",
    "\n",
    "print(methodception(add_two_numbers))"
   ]
  },
  {
   "cell_type": "code",
   "execution_count": 4,
   "metadata": {
    "collapsed": false
   },
   "outputs": [
    {
     "name": "stdout",
     "output_type": "stream",
     "text": [
      "112\n"
     ]
    }
   ],
   "source": [
    "# Lambda Functions\n",
    "print methodception(lambda: 35 + 77)"
   ]
  },
  {
   "cell_type": "code",
   "execution_count": 11,
   "metadata": {
    "collapsed": false
   },
   "outputs": [
    {
     "name": "stdout",
     "output_type": "stream",
     "text": [
      "[56, 484]\n"
     ]
    }
   ],
   "source": [
    "# Declarative programming (part of functional programming)\n",
    "my_list = [13,56,77,484]\n",
    "\n",
    "# Remove one of the elements\n",
    "# my_list.remove(13)\n",
    "\n",
    "# Remove elements using list filter\n",
    "my_list = list(filter(lambda x: x%2 == 0, my_list))\n",
    "\n",
    "\n",
    "print my_list"
   ]
  },
  {
   "cell_type": "code",
   "execution_count": 14,
   "metadata": {
    "collapsed": false
   },
   "outputs": [
    {
     "name": "stdout",
     "output_type": "stream",
     "text": [
      "[56, 484]\n"
     ]
    }
   ],
   "source": [
    "# Create a filter function\n",
    "def even(x):\n",
    "    return x%2 == 0\n",
    "\n",
    "my_list = [13,56,77,484]\n",
    "print(list(filter(even, my_list)))"
   ]
  },
  {
   "cell_type": "code",
   "execution_count": null,
   "metadata": {
    "collapsed": true
   },
   "outputs": [],
   "source": []
  }
 ],
 "metadata": {
  "kernelspec": {
   "display_name": "Python 2",
   "language": "python",
   "name": "python2"
  },
  "language_info": {
   "codemirror_mode": {
    "name": "ipython",
    "version": 2
   },
   "file_extension": ".py",
   "mimetype": "text/x-python",
   "name": "python",
   "nbconvert_exporter": "python",
   "pygments_lexer": "ipython2",
   "version": "2.7.9"
  }
 },
 "nbformat": 4,
 "nbformat_minor": 2
}
