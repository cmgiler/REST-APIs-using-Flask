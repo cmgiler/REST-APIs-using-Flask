{
 "cells": [
  {
   "cell_type": "code",
   "execution_count": 18,
   "metadata": {
    "collapsed": true
   },
   "outputs": [],
   "source": [
    "class Student(object):\n",
    "    def __init__(self, name, school):\n",
    "        self.name = name\n",
    "        self.school = school\n",
    "        self.marks = []\n",
    "    \n",
    "    def average(self):\n",
    "        return sum(self.marks) / len(self.marks)\n",
    "    \n",
    "    @classmethod\n",
    "    def friend(cls, origin, friend_name, *args, **kwargs):\n",
    "        # return a new Student called 'friend_name' in the same school as self.\n",
    "        return cls(friend_name, origin.school, *args, **kwargs)\n",
    "    \n",
    "class WorkingStudent(Student):\n",
    "    def __init__(self, name, school, salary, job_title):\n",
    "        super(WorkingStudent, self).__init__(name, school)\n",
    "        self.salary = salary\n",
    "        self.job_title = job_title"
   ]
  },
  {
   "cell_type": "code",
   "execution_count": 21,
   "metadata": {
    "collapsed": false
   },
   "outputs": [
    {
     "name": "stdout",
     "output_type": "stream",
     "text": [
      "20.0\n",
      "Greg\n",
      "Oxford\n",
      "17.5\n"
     ]
    }
   ],
   "source": [
    "anna = WorkingStudent('Anna', 'Oxford', salary=20.00, job_title='Software Developer')\n",
    "print anna.salary\n",
    "\n",
    "friend = anna.friend(anna, 'Greg', salary=17.50, job_title='Software Developer')\n",
    "print friend.name\n",
    "print friend.school\n",
    "print friend.salary"
   ]
  },
  {
   "cell_type": "code",
   "execution_count": null,
   "metadata": {
    "collapsed": true
   },
   "outputs": [],
   "source": []
  }
 ],
 "metadata": {
  "kernelspec": {
   "display_name": "Python 2",
   "language": "python",
   "name": "python2"
  },
  "language_info": {
   "codemirror_mode": {
    "name": "ipython",
    "version": 2
   },
   "file_extension": ".py",
   "mimetype": "text/x-python",
   "name": "python",
   "nbconvert_exporter": "python",
   "pygments_lexer": "ipython2",
   "version": "2.7.9"
  }
 },
 "nbformat": 4,
 "nbformat_minor": 2
}
