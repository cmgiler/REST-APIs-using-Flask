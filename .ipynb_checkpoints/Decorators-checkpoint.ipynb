{
 "cells": [
  {
   "cell_type": "markdown",
   "metadata": {},
   "source": [
    "## Simple Decorators\n",
    "---"
   ]
  },
  {
   "cell_type": "code",
   "execution_count": 2,
   "metadata": {
    "collapsed": false
   },
   "outputs": [],
   "source": [
    "import functools"
   ]
  },
  {
   "cell_type": "code",
   "execution_count": 3,
   "metadata": {
    "collapsed": true
   },
   "outputs": [],
   "source": [
    "def my_decorator(func):\n",
    "    @functools.wraps(func)\n",
    "    def function_that_runs_func():\n",
    "        print(\"In the decorator!\")\n",
    "        func()\n",
    "        print(\"After the decorator!\")\n",
    "    return function_that_runs_func"
   ]
  },
  {
   "cell_type": "code",
   "execution_count": 4,
   "metadata": {
    "collapsed": true
   },
   "outputs": [],
   "source": [
    "@my_decorator\n",
    "def my_function():\n",
    "    print(\"I'm the function!\")"
   ]
  },
  {
   "cell_type": "code",
   "execution_count": 6,
   "metadata": {
    "collapsed": false
   },
   "outputs": [
    {
     "name": "stdout",
     "output_type": "stream",
     "text": [
      "In the decorator!\n",
      "I'm the function!\n",
      "After the decorator!\n"
     ]
    }
   ],
   "source": [
    "my_function()"
   ]
  },
  {
   "cell_type": "markdown",
   "metadata": {},
   "source": [
    "## More Complex Decorators\n",
    "---"
   ]
  },
  {
   "cell_type": "code",
   "execution_count": 16,
   "metadata": {
    "collapsed": false
   },
   "outputs": [
    {
     "name": "stdout",
     "output_type": "stream",
     "text": [
      "In the decorator!\n",
      "Not running the function!\n",
      "After the decorator!\n"
     ]
    }
   ],
   "source": [
    "def decorator_with_arguments(auth):\n",
    "    def my_decorator(func):\n",
    "        @functools.wraps(func)\n",
    "        def function_that_runs_func(*args, **kwargs):\n",
    "            print(\"In the decorator!\")\n",
    "            if not auth:\n",
    "                print(\"Not running the function!\")\n",
    "            else:\n",
    "                func(*args, **kwargs)\n",
    "            print(\"After the decorator!\")\n",
    "        return function_that_runs_func\n",
    "    return my_decorator\n",
    "\n",
    "@decorator_with_arguments(False)\n",
    "def my_function_too(x,y):\n",
    "    print(x + y)\n",
    "    \n",
    "my_function_too(57, 67)"
   ]
  },
  {
   "cell_type": "code",
   "execution_count": null,
   "metadata": {
    "collapsed": true
   },
   "outputs": [],
   "source": []
  }
 ],
 "metadata": {
  "kernelspec": {
   "display_name": "Python 2",
   "language": "python",
   "name": "python2"
  },
  "language_info": {
   "codemirror_mode": {
    "name": "ipython",
    "version": 2
   },
   "file_extension": ".py",
   "mimetype": "text/x-python",
   "name": "python",
   "nbconvert_exporter": "python",
   "pygments_lexer": "ipython2",
   "version": "2.7.9"
  }
 },
 "nbformat": 4,
 "nbformat_minor": 2
}
